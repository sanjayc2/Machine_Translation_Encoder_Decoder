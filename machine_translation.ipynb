{
 "cells": [
  {
   "cell_type": "markdown",
   "metadata": {
    "collapsed": true
   },
   "source": [
    "# Artificial Intelligence Nanodegree\n",
    "## Machine Translation Project\n",
    "In this notebook, sections that end with **'(IMPLEMENTATION)'** in the header indicate that the following blocks of code will require additional functionality which you must provide. Please be sure to read the instructions carefully!\n",
    "\n",
    "## Introduction\n",
    "In this notebook, you will build a deep neural network that functions as part of an end-to-end machine translation pipeline. Your completed pipeline will accept English text as input and return the French translation.\n",
    "\n",
    "- **Preprocess** - You'll convert text to sequence of integers.\n",
    "- **Models** Create models which accepts a sequence of integers as input and returns a probability distribution over possible translations. After learning about the basic types of neural networks that are often used for machine translation, you will engage in your own investigations, to design your own model!\n",
    "- **Prediction** Run the model on English text."
   ]
  },
  {
   "cell_type": "code",
   "execution_count": 2,
   "metadata": {},
   "outputs": [],
   "source": [
    "%load_ext autoreload\n",
    "%aimport helper, tests\n",
    "%autoreload 1"
   ]
  },
  {
   "cell_type": "code",
   "execution_count": 3,
   "metadata": {},
   "outputs": [
    {
     "name": "stderr",
     "output_type": "stream",
     "text": [
      "Using TensorFlow backend.\n"
     ]
    }
   ],
   "source": [
    "import collections\n",
    "\n",
    "import helper\n",
    "import numpy as np\n",
    "\n",
    "import project_tests as tests\n",
    "\n",
    "from keras.preprocessing.text import Tokenizer\n",
    "from keras.preprocessing.sequence import pad_sequences\n",
    "from keras.models import Model\n",
    "from keras.layers import GRU, Input, Dense, TimeDistributed, Activation, RepeatVector, Bidirectional\n",
    "from keras.layers.embeddings import Embedding\n",
    "from keras.optimizers import Adam\n",
    "from keras.losses import sparse_categorical_crossentropy"
   ]
  },
  {
   "cell_type": "markdown",
   "metadata": {},
   "source": [
    "### Verify access to the GPU\n",
    "The following test applies only if you expect to be using a GPU, e.g., while running in a Udacity Workspace or using an AWS instance with GPU support. Run the next cell, and verify that the device_type is \"GPU\".\n",
    "- If the device is not GPU & you are running from a Udacity Workspace, then save your workspace with the icon at the top, then click \"enable\" at the bottom of the workspace.\n",
    "- If the device is not GPU & you are running from an AWS instance, then refer to the cloud computing instructions in the classroom to verify your setup steps."
   ]
  },
  {
   "cell_type": "code",
   "execution_count": 4,
   "metadata": {},
   "outputs": [
    {
     "name": "stdout",
     "output_type": "stream",
     "text": [
      "[name: \"/cpu:0\"\n",
      "device_type: \"CPU\"\n",
      "memory_limit: 268435456\n",
      "locality {\n",
      "}\n",
      "incarnation: 10167793932916080016\n",
      ", name: \"/gpu:0\"\n",
      "device_type: \"GPU\"\n",
      "memory_limit: 357433344\n",
      "locality {\n",
      "  bus_id: 1\n",
      "}\n",
      "incarnation: 7772731225377366888\n",
      "physical_device_desc: \"device: 0, name: Tesla K80, pci bus id: 0000:00:04.0\"\n",
      "]\n"
     ]
    }
   ],
   "source": [
    "from tensorflow.python.client import device_lib\n",
    "print(device_lib.list_local_devices())"
   ]
  },
  {
   "cell_type": "markdown",
   "metadata": {},
   "source": [
    "## Dataset\n",
    "We begin by investigating the dataset that will be used to train and evaluate your pipeline.  The most common datasets used for machine translation are from [WMT](http://www.statmt.org/).  However, that will take a long time to train a neural network on.  We'll be using a dataset we created for this project that contains a small vocabulary.  You'll be able to train your model in a reasonable time with this dataset.\n",
    "### Load Data\n",
    "The data is located in `data/small_vocab_en` and `data/small_vocab_fr`. The `small_vocab_en` file contains English sentences with their French translations in the `small_vocab_fr` file. Load the English and French data from these files from running the cell below."
   ]
  },
  {
   "cell_type": "code",
   "execution_count": 5,
   "metadata": {},
   "outputs": [
    {
     "name": "stdout",
     "output_type": "stream",
     "text": [
      "Dataset Loaded\n"
     ]
    }
   ],
   "source": [
    "# Load English data\n",
    "english_sentences = helper.load_data('data/small_vocab_en')\n",
    "# Load French data\n",
    "french_sentences = helper.load_data('data/small_vocab_fr')\n",
    "\n",
    "print('Dataset Loaded')"
   ]
  },
  {
   "cell_type": "markdown",
   "metadata": {},
   "source": [
    "### Files\n",
    "Each line in `small_vocab_en` contains an English sentence with the respective translation in each line of `small_vocab_fr`.  View the first two lines from each file."
   ]
  },
  {
   "cell_type": "code",
   "execution_count": 6,
   "metadata": {},
   "outputs": [
    {
     "name": "stdout",
     "output_type": "stream",
     "text": [
      "small_vocab_en Line 1:  new jersey is sometimes quiet during autumn , and it is snowy in april .\n",
      "small_vocab_fr Line 1:  new jersey est parfois calme pendant l' automne , et il est neigeux en avril .\n",
      "small_vocab_en Line 2:  the united states is usually chilly during july , and it is usually freezing in november .\n",
      "small_vocab_fr Line 2:  les états-unis est généralement froid en juillet , et il gèle habituellement en novembre .\n"
     ]
    }
   ],
   "source": [
    "for sample_i in range(2):\n",
    "    print('small_vocab_en Line {}:  {}'.format(sample_i + 1, english_sentences[sample_i]))\n",
    "    print('small_vocab_fr Line {}:  {}'.format(sample_i + 1, french_sentences[sample_i]))"
   ]
  },
  {
   "cell_type": "markdown",
   "metadata": {},
   "source": [
    "From looking at the sentences, you can see they have been preprocessed already.  The puncuations have been delimited using spaces. All the text have been converted to lowercase.  This should save you some time, but the text requires more preprocessing.\n",
    "### Vocabulary\n",
    "The complexity of the problem is determined by the complexity of the vocabulary.  A more complex vocabulary is a more complex problem.  Let's look at the complexity of the dataset we'll be working with."
   ]
  },
  {
   "cell_type": "code",
   "execution_count": 7,
   "metadata": {},
   "outputs": [
    {
     "name": "stdout",
     "output_type": "stream",
     "text": [
      "1823250 English words.\n",
      "227 unique English words.\n",
      "10 Most common words in the English dataset:\n",
      "\"is\" \",\" \".\" \"in\" \"it\" \"during\" \"the\" \"but\" \"and\" \"sometimes\"\n",
      "\n",
      "1961295 French words.\n",
      "355 unique French words.\n",
      "10 Most common words in the French dataset:\n",
      "\"est\" \".\" \",\" \"en\" \"il\" \"les\" \"mais\" \"et\" \"la\" \"parfois\"\n"
     ]
    }
   ],
   "source": [
    "english_words_counter = collections.Counter([word for sentence in english_sentences for word in sentence.split()])\n",
    "french_words_counter = collections.Counter([word for sentence in french_sentences for word in sentence.split()])\n",
    "\n",
    "print('{} English words.'.format(len([word for sentence in english_sentences for word in sentence.split()])))\n",
    "print('{} unique English words.'.format(len(english_words_counter)))\n",
    "print('10 Most common words in the English dataset:')\n",
    "print('\"' + '\" \"'.join(list(zip(*english_words_counter.most_common(10)))[0]) + '\"')\n",
    "print()\n",
    "print('{} French words.'.format(len([word for sentence in french_sentences for word in sentence.split()])))\n",
    "print('{} unique French words.'.format(len(french_words_counter)))\n",
    "print('10 Most common words in the French dataset:')\n",
    "print('\"' + '\" \"'.join(list(zip(*french_words_counter.most_common(10)))[0]) + '\"')"
   ]
  },
  {
   "cell_type": "markdown",
   "metadata": {},
   "source": [
    "For comparison, _Alice's Adventures in Wonderland_ contains 2,766 unique words of a total of 15,500 words.\n",
    "## Preprocess\n",
    "For this project, you won't use text data as input to your model. Instead, you'll convert the text into sequences of integers using the following preprocess methods:\n",
    "1. Tokenize the words into ids\n",
    "2. Add padding to make all the sequences the same length.\n",
    "\n",
    "Time to start preprocessing the data...\n",
    "### Tokenize (IMPLEMENTATION)\n",
    "For a neural network to predict on text data, it first has to be turned into data it can understand. Text data like \"dog\" is a sequence of ASCII character encodings.  Since a neural network is a series of multiplication and addition operations, the input data needs to be number(s).\n",
    "\n",
    "We can turn each character into a number or each word into a number.  These are called character and word ids, respectively.  Character ids are used for character level models that generate text predictions for each character.  A word level model uses word ids that generate text predictions for each word.  Word level models tend to learn better, since they are lower in complexity, so we'll use those.\n",
    "\n",
    "Turn each sentence into a sequence of words ids using Keras's [`Tokenizer`](https://keras.io/preprocessing/text/#tokenizer) function. Use this function to tokenize `english_sentences` and `french_sentences` in the cell below.\n",
    "\n",
    "Running the cell will run `tokenize` on sample data and show output for debugging."
   ]
  },
  {
   "cell_type": "code",
   "execution_count": 8,
   "metadata": {},
   "outputs": [
    {
     "name": "stdout",
     "output_type": "stream",
     "text": [
      "{'the': 1, 'quick': 2, 'a': 3, 'brown': 4, 'fox': 5, 'jumps': 6, 'over': 7, 'lazy': 8, 'dog': 9, 'by': 10, 'jove': 11, 'my': 12, 'study': 13, 'of': 14, 'lexicography': 15, 'won': 16, 'prize': 17, 'this': 18, 'is': 19, 'short': 20, 'sentence': 21}\n",
      "\n",
      "Sequence 1 in x\n",
      "  Input:  The quick brown fox jumps over the lazy dog .\n",
      "  Output: [1, 2, 4, 5, 6, 7, 1, 8, 9]\n",
      "Sequence 2 in x\n",
      "  Input:  By Jove , my quick study of lexicography won a prize .\n",
      "  Output: [10, 11, 12, 2, 13, 14, 15, 16, 3, 17]\n",
      "Sequence 3 in x\n",
      "  Input:  This is a short sentence .\n",
      "  Output: [18, 19, 3, 20, 21]\n"
     ]
    }
   ],
   "source": [
    "def tokenize(x):\n",
    "    \"\"\"\n",
    "    Tokenize x\n",
    "    :param x: List of sentences/strings to be tokenized\n",
    "    :return: Tuple of (tokenized x data, tokenizer used to tokenize x)\n",
    "    \"\"\"\n",
    "    # TODO: Implement\n",
    "    tk = Tokenizer()\n",
    "    tk.fit_on_texts(x)\n",
    "    return (tk.texts_to_sequences(x), tk)\n",
    "tests.test_tokenize(tokenize)\n",
    "\n",
    "# Tokenize Example output\n",
    "text_sentences = [\n",
    "    'The quick brown fox jumps over the lazy dog .',\n",
    "    'By Jove , my quick study of lexicography won a prize .',\n",
    "    'This is a short sentence .']\n",
    "text_tokenized, text_tokenizer = tokenize(text_sentences)\n",
    "print(text_tokenizer.word_index)\n",
    "print()\n",
    "for sample_i, (sent, token_sent) in enumerate(zip(text_sentences, text_tokenized)):\n",
    "    print('Sequence {} in x'.format(sample_i + 1))\n",
    "    print('  Input:  {}'.format(sent))\n",
    "    print('  Output: {}'.format(token_sent))"
   ]
  },
  {
   "cell_type": "markdown",
   "metadata": {},
   "source": [
    "### Padding (IMPLEMENTATION)\n",
    "When batching the sequence of word ids together, each sequence needs to be the same length.  Since sentences are dynamic in length, we can add padding to the end of the sequences to make them the same length.\n",
    "\n",
    "Make sure all the English sequences have the same length and all the French sequences have the same length by adding padding to the **end** of each sequence using Keras's [`pad_sequences`](https://keras.io/preprocessing/sequence/#pad_sequences) function."
   ]
  },
  {
   "cell_type": "code",
   "execution_count": 9,
   "metadata": {},
   "outputs": [
    {
     "name": "stdout",
     "output_type": "stream",
     "text": [
      "Sequence 1 in x\n",
      "  Input:  [1 2 4 5 6 7 1 8 9]\n",
      "  Output: [1 2 4 5 6 7 1 8 9 0]\n",
      "Sequence 2 in x\n",
      "  Input:  [10 11 12  2 13 14 15 16  3 17]\n",
      "  Output: [10 11 12  2 13 14 15 16  3 17]\n",
      "Sequence 3 in x\n",
      "  Input:  [18 19  3 20 21]\n",
      "  Output: [18 19  3 20 21  0  0  0  0  0]\n"
     ]
    }
   ],
   "source": [
    "def pad(x, length=None):\n",
    "    \"\"\"\n",
    "    Pad x\n",
    "    :param x: List of sequences.\n",
    "    :param length: Length to pad the sequence to.  If None, use length of longest sequence in x.\n",
    "    :return: Padded numpy array of sequences\n",
    "    \"\"\"\n",
    "    # TODO: Implement\n",
    "    maxlen = length\n",
    "    if (length == None):\n",
    "        maxlen = len(max(x, key=len))\n",
    "    seq = pad_sequences(x, maxlen=maxlen, padding='post', value=0)\n",
    "    return seq\n",
    "tests.test_pad(pad)\n",
    "\n",
    "# Pad Tokenized output\n",
    "test_pad = pad(text_tokenized)\n",
    "for sample_i, (token_sent, pad_sent) in enumerate(zip(text_tokenized, test_pad)):\n",
    "    print('Sequence {} in x'.format(sample_i + 1))\n",
    "    print('  Input:  {}'.format(np.array(token_sent)))\n",
    "    print('  Output: {}'.format(pad_sent))"
   ]
  },
  {
   "cell_type": "markdown",
   "metadata": {},
   "source": [
    "### Preprocess Pipeline\n",
    "Your focus for this project is to build neural network architecture, so we won't ask you to create a preprocess pipeline.  Instead, we've provided you with the implementation of the `preprocess` function."
   ]
  },
  {
   "cell_type": "code",
   "execution_count": 10,
   "metadata": {},
   "outputs": [
    {
     "name": "stdout",
     "output_type": "stream",
     "text": [
      "Data Preprocessed\n",
      "Max English sentence length: 15\n",
      "Max French sentence length: 21\n",
      "English vocabulary size: 200\n",
      "French vocabulary size: 345\n"
     ]
    }
   ],
   "source": [
    "def preprocess(x, y):\n",
    "    \"\"\"\n",
    "    Preprocess x and y\n",
    "    :param x: Feature List of sentences\n",
    "    :param y: Label List of sentences\n",
    "    :return: Tuple of (Preprocessed x, Preprocessed y, x tokenizer, y tokenizer)\n",
    "    \"\"\"\n",
    "    preprocess_x, x_tk = tokenize(x)\n",
    "    preprocess_y, y_tk = tokenize(y)\n",
    "\n",
    "    preprocess_x = pad(preprocess_x)\n",
    "    preprocess_y = pad(preprocess_y)\n",
    "\n",
    "    # Keras's sparse_categorical_crossentropy function requires the labels to be in 3 dimensions\n",
    "    preprocess_y = preprocess_y.reshape(*preprocess_y.shape, 1)\n",
    "\n",
    "    return preprocess_x, preprocess_y, x_tk, y_tk\n",
    "\n",
    "preproc_english_sentences, preproc_french_sentences, english_tokenizer, french_tokenizer =\\\n",
    "    preprocess(english_sentences, french_sentences)\n",
    "    \n",
    "max_english_sequence_length = preproc_english_sentences.shape[1]\n",
    "max_french_sequence_length = preproc_french_sentences.shape[1]\n",
    "english_vocab_size = len(english_tokenizer.word_index) + 1\n",
    "french_vocab_size = len(french_tokenizer.word_index) + 1\n",
    "\n",
    "print('Data Preprocessed')\n",
    "print(\"Max English sentence length:\", max_english_sequence_length)\n",
    "print(\"Max French sentence length:\", max_french_sequence_length)\n",
    "print(\"English vocabulary size:\", english_vocab_size)\n",
    "print(\"French vocabulary size:\", french_vocab_size)"
   ]
  },
  {
   "cell_type": "markdown",
   "metadata": {},
   "source": [
    "## Models\n",
    "In this section, you will experiment with various neural network architectures.\n",
    "You will begin by training four relatively simple architectures.\n",
    "- Model 1 is a simple RNN\n",
    "- Model 2 is a RNN with Embedding\n",
    "- Model 3 is a Bidirectional RNN\n",
    "- Model 4 is an optional Encoder-Decoder RNN\n",
    "\n",
    "After experimenting with the four simple architectures, you will construct a deeper architecture that is designed to outperform all four models.\n",
    "### Ids Back to Text\n",
    "The neural network will be translating the input to words ids, which isn't the final form we want.  We want the French translation.  The function `logits_to_text` will bridge the gab between the logits from the neural network to the French translation.  You'll be using this function to better understand the output of the neural network."
   ]
  },
  {
   "cell_type": "code",
   "execution_count": 11,
   "metadata": {},
   "outputs": [
    {
     "name": "stdout",
     "output_type": "stream",
     "text": [
      "`logits_to_text` function loaded.\n"
     ]
    }
   ],
   "source": [
    "def logits_to_text(logits, tokenizer):\n",
    "    \"\"\"\n",
    "    Turn logits from a neural network into text using the tokenizer\n",
    "    :param logits: Logits from a neural network\n",
    "    :param tokenizer: Keras Tokenizer fit on the labels\n",
    "    :return: String that represents the text of the logits\n",
    "    \"\"\"\n",
    "    index_to_words = {id: word for word, id in tokenizer.word_index.items()}\n",
    "    index_to_words[0] = '<PAD>'\n",
    "\n",
    "    return ' '.join([index_to_words[prediction] for prediction in np.argmax(logits, 1)])\n",
    "\n",
    "print('`logits_to_text` function loaded.')"
   ]
  },
  {
   "cell_type": "markdown",
   "metadata": {},
   "source": [
    "### Model 1: RNN (IMPLEMENTATION)\n",
    "![RNN](images/rnn.png)\n",
    "A basic RNN model is a good baseline for sequence data.  In this model, you'll build a RNN that translates English to French."
   ]
  },
  {
   "cell_type": "code",
   "execution_count": 11,
   "metadata": {},
   "outputs": [
    {
     "name": "stdout",
     "output_type": "stream",
     "text": [
      "Train on 110288 samples, validate on 27573 samples\n",
      "Epoch 1/30\n",
      "110288/110288 [==============================] - 9s 81us/step - loss: 1.9014 - acc: 0.5533 - val_loss: 1.3555 - val_acc: 0.6213\n",
      "Epoch 2/30\n",
      "110288/110288 [==============================] - 7s 65us/step - loss: 1.2278 - acc: 0.6469 - val_loss: 1.1304 - val_acc: 0.6573\n",
      "Epoch 3/30\n",
      "110288/110288 [==============================] - 7s 65us/step - loss: 1.0822 - acc: 0.6652 - val_loss: 1.0353 - val_acc: 0.6747\n",
      "Epoch 4/30\n",
      "110288/110288 [==============================] - 7s 65us/step - loss: 1.0058 - acc: 0.6774 - val_loss: 0.9904 - val_acc: 0.6806\n",
      "Epoch 5/30\n",
      "110288/110288 [==============================] - 7s 65us/step - loss: 0.9614 - acc: 0.6845 - val_loss: 0.9684 - val_acc: 0.6795\n",
      "Epoch 6/30\n",
      "110288/110288 [==============================] - 7s 65us/step - loss: 0.9260 - acc: 0.6935 - val_loss: 0.9097 - val_acc: 0.6981\n",
      "Epoch 7/30\n",
      "110288/110288 [==============================] - 7s 65us/step - loss: 0.8994 - acc: 0.7017 - val_loss: 0.8711 - val_acc: 0.7089\n",
      "Epoch 8/30\n",
      "110288/110288 [==============================] - 7s 65us/step - loss: 0.8715 - acc: 0.7116 - val_loss: 0.8564 - val_acc: 0.7118\n",
      "Epoch 9/30\n",
      "110288/110288 [==============================] - 7s 65us/step - loss: 0.8474 - acc: 0.7198 - val_loss: 0.8320 - val_acc: 0.7315\n",
      "Epoch 10/30\n",
      "110288/110288 [==============================] - 7s 65us/step - loss: 0.8195 - acc: 0.7328 - val_loss: 0.7962 - val_acc: 0.7383\n",
      "Epoch 11/30\n",
      "110288/110288 [==============================] - 7s 65us/step - loss: 0.7967 - acc: 0.7410 - val_loss: 0.8300 - val_acc: 0.7146\n",
      "Epoch 12/30\n",
      "110288/110288 [==============================] - 7s 65us/step - loss: 0.7707 - acc: 0.7518 - val_loss: 0.7449 - val_acc: 0.7668\n",
      "Epoch 13/30\n",
      "110288/110288 [==============================] - 7s 65us/step - loss: 0.7545 - acc: 0.7571 - val_loss: 0.7520 - val_acc: 0.7604\n",
      "Epoch 14/30\n",
      "110288/110288 [==============================] - 7s 65us/step - loss: 0.7366 - acc: 0.7635 - val_loss: 0.7673 - val_acc: 0.7459\n",
      "Epoch 15/30\n",
      "110288/110288 [==============================] - 7s 65us/step - loss: 0.7204 - acc: 0.7704 - val_loss: 0.6968 - val_acc: 0.7783\n",
      "Epoch 16/30\n",
      "110288/110288 [==============================] - 7s 65us/step - loss: 0.7238 - acc: 0.7682 - val_loss: 0.6846 - val_acc: 0.7806\n",
      "Epoch 17/30\n",
      "110288/110288 [==============================] - 7s 65us/step - loss: 0.7366 - acc: 0.7602 - val_loss: 0.7695 - val_acc: 0.7461\n",
      "Epoch 18/30\n",
      "110288/110288 [==============================] - 7s 65us/step - loss: 0.7041 - acc: 0.7738 - val_loss: 0.7239 - val_acc: 0.7640\n",
      "Epoch 19/30\n",
      "110288/110288 [==============================] - 7s 65us/step - loss: 0.6857 - acc: 0.7802 - val_loss: 0.6604 - val_acc: 0.7900\n",
      "Epoch 20/30\n",
      "110288/110288 [==============================] - 7s 65us/step - loss: 0.6642 - acc: 0.7886 - val_loss: 0.6519 - val_acc: 0.7955\n",
      "Epoch 21/30\n",
      "110288/110288 [==============================] - 7s 65us/step - loss: 0.6482 - acc: 0.7943 - val_loss: 0.6518 - val_acc: 0.7933\n",
      "Epoch 22/30\n",
      "110288/110288 [==============================] - 7s 65us/step - loss: 0.6572 - acc: 0.7895 - val_loss: 0.6412 - val_acc: 0.7986\n",
      "Epoch 23/30\n",
      "110288/110288 [==============================] - 7s 65us/step - loss: 0.6780 - acc: 0.7803 - val_loss: 0.6408 - val_acc: 0.7995\n",
      "Epoch 24/30\n",
      "110288/110288 [==============================] - 7s 65us/step - loss: 0.6237 - acc: 0.8028 - val_loss: 0.6214 - val_acc: 0.8058\n",
      "Epoch 25/30\n",
      "110288/110288 [==============================] - 7s 65us/step - loss: 0.6437 - acc: 0.7947 - val_loss: 0.8554 - val_acc: 0.7169\n",
      "Epoch 26/30\n",
      "110288/110288 [==============================] - 7s 65us/step - loss: 0.7492 - acc: 0.7497 - val_loss: 0.6759 - val_acc: 0.7797\n",
      "Epoch 27/30\n",
      "110288/110288 [==============================] - 7s 65us/step - loss: 0.6434 - acc: 0.7932 - val_loss: 0.6577 - val_acc: 0.7838\n",
      "Epoch 28/30\n",
      "110288/110288 [==============================] - 7s 65us/step - loss: 0.6474 - acc: 0.7901 - val_loss: 0.6610 - val_acc: 0.7877\n",
      "Epoch 29/30\n",
      "110288/110288 [==============================] - 7s 65us/step - loss: 0.6261 - acc: 0.7992 - val_loss: 0.6120 - val_acc: 0.8055\n",
      "Epoch 30/30\n",
      "110288/110288 [==============================] - 7s 65us/step - loss: 0.6477 - acc: 0.7915 - val_loss: 0.6247 - val_acc: 0.8024\n",
      "new jersey est parfois calme en l' et il et il est neigeux en <PAD> <PAD> <PAD> <PAD> <PAD> <PAD> <PAD>\n"
     ]
    }
   ],
   "source": [
    "def simple_model(input_shape, output_sequence_length, english_vocab_size, french_vocab_size):\n",
    "    \"\"\"\n",
    "    Build and train a basic RNN on x and y\n",
    "    :param input_shape: Tuple of input shape\n",
    "    :param output_sequence_length: Length of output sequence\n",
    "    :param english_vocab_size: Number of unique English words in the dataset\n",
    "    :param french_vocab_size: Number of unique French words in the dataset\n",
    "    :return: Keras model built, but not trained\n",
    "    \"\"\"\n",
    "    # TODO: Build the layers\n",
    "    # Build functional RNN model without embedding layer\n",
    "    learning_rate = 0.01\n",
    "    inputs  = Input(shape=input_shape[1:])\n",
    "    outputs = GRU(128, return_sequences=True)(inputs)\n",
    "    outputs = TimeDistributed(Dense(french_vocab_size, activation=\"softmax\"))(outputs)\n",
    "    model   = Model(inputs, outputs)\n",
    "    model.compile(loss=sparse_categorical_crossentropy,\n",
    "                  optimizer=Adam(learning_rate),\n",
    "                  metrics=['accuracy'])\n",
    "    return model\n",
    "tests.test_simple_model(simple_model)\n",
    "\n",
    "# Reshaping the input to work with a basic RNN\n",
    "tmp_x = pad(preproc_english_sentences, max_french_sequence_length)\n",
    "tmp_x = tmp_x.reshape((-1, preproc_french_sentences.shape[-2], 1))\n",
    "\n",
    "# Train the neural network\n",
    "simple_rnn_model = simple_model(\n",
    "    tmp_x.shape,\n",
    "    max_french_sequence_length,\n",
    "    english_vocab_size,\n",
    "    french_vocab_size)\n",
    "\n",
    "simple_rnn_model.fit(tmp_x, preproc_french_sentences, batch_size=1024, epochs=30, validation_split=0.2)\n",
    "\n",
    "# Print prediction(s)\n",
    "print(logits_to_text(simple_rnn_model.predict(tmp_x[:1])[0], french_tokenizer))"
   ]
  },
  {
   "cell_type": "markdown",
   "metadata": {},
   "source": [
    "### Model 2: Embedding (IMPLEMENTATION)\n",
    "![RNN](images/embedding.png)\n",
    "You've turned the words into ids, but there's a better representation of a word.  This is called word embeddings.  An embedding is a vector representation of the word that is close to similar words in n-dimensional space, where the n represents the size of the embedding vectors.\n",
    "\n",
    "In this model, you'll create a RNN model using embedding."
   ]
  },
  {
   "cell_type": "code",
   "execution_count": 14,
   "metadata": {},
   "outputs": [
    {
     "name": "stdout",
     "output_type": "stream",
     "text": [
      "Train on 110288 samples, validate on 27573 samples\n",
      "Epoch 1/30\n",
      "110288/110288 [==============================] - 9s 77us/step - loss: 2.8948 - acc: 0.3371 - val_loss: 1.7442 - val_acc: 0.4130\n",
      "Epoch 2/30\n",
      "110288/110288 [==============================] - 8s 72us/step - loss: 1.3603 - acc: 0.4431 - val_loss: 0.8698 - val_acc: 0.7443\n",
      "Epoch 3/30\n",
      "110288/110288 [==============================] - 8s 72us/step - loss: 0.6826 - acc: 0.7981 - val_loss: 0.5636 - val_acc: 0.8315\n",
      "Epoch 4/30\n",
      "110288/110288 [==============================] - 8s 72us/step - loss: 0.5076 - acc: 0.8474 - val_loss: 0.4655 - val_acc: 0.8587\n",
      "Epoch 5/30\n",
      "110288/110288 [==============================] - 8s 72us/step - loss: 0.4340 - acc: 0.8685 - val_loss: 0.4087 - val_acc: 0.8771\n",
      "Epoch 6/30\n",
      "110288/110288 [==============================] - 8s 72us/step - loss: 0.3883 - acc: 0.8813 - val_loss: 0.3818 - val_acc: 0.8823\n",
      "Epoch 7/30\n",
      "110288/110288 [==============================] - 8s 72us/step - loss: 0.3608 - acc: 0.8885 - val_loss: 0.3492 - val_acc: 0.8921\n",
      "Epoch 8/30\n",
      "110288/110288 [==============================] - 8s 72us/step - loss: 0.3419 - acc: 0.8932 - val_loss: 0.3406 - val_acc: 0.8942\n",
      "Epoch 9/30\n",
      "110288/110288 [==============================] - 8s 72us/step - loss: 0.3260 - acc: 0.8980 - val_loss: 0.3315 - val_acc: 0.8966\n",
      "Epoch 10/30\n",
      "110288/110288 [==============================] - 8s 72us/step - loss: 0.3151 - acc: 0.9010 - val_loss: 0.3081 - val_acc: 0.9035\n",
      "Epoch 11/30\n",
      "110288/110288 [==============================] - 8s 72us/step - loss: 0.3036 - acc: 0.9041 - val_loss: 0.3130 - val_acc: 0.9023\n",
      "Epoch 12/30\n",
      "110288/110288 [==============================] - 8s 72us/step - loss: 0.2978 - acc: 0.9057 - val_loss: 0.2913 - val_acc: 0.9084\n",
      "Epoch 13/30\n",
      "110288/110288 [==============================] - 8s 72us/step - loss: 0.2860 - acc: 0.9092 - val_loss: 0.2923 - val_acc: 0.9081\n",
      "Epoch 14/30\n",
      "110288/110288 [==============================] - 8s 72us/step - loss: 0.2794 - acc: 0.9109 - val_loss: 0.2860 - val_acc: 0.9099\n",
      "Epoch 15/30\n",
      "110288/110288 [==============================] - 8s 72us/step - loss: 0.2803 - acc: 0.9108 - val_loss: 0.2799 - val_acc: 0.9112\n",
      "Epoch 16/30\n",
      "110288/110288 [==============================] - 8s 72us/step - loss: 0.2697 - acc: 0.9135 - val_loss: 0.2739 - val_acc: 0.9127\n",
      "Epoch 17/30\n",
      "110288/110288 [==============================] - 8s 72us/step - loss: 0.2654 - acc: 0.9147 - val_loss: 0.2670 - val_acc: 0.9154\n",
      "Epoch 18/30\n",
      "110288/110288 [==============================] - 8s 72us/step - loss: 0.2643 - acc: 0.9149 - val_loss: 0.2653 - val_acc: 0.9154\n",
      "Epoch 19/30\n",
      "110288/110288 [==============================] - 8s 72us/step - loss: 0.2584 - acc: 0.9164 - val_loss: 0.2678 - val_acc: 0.9150\n",
      "Epoch 20/30\n",
      "110288/110288 [==============================] - 8s 72us/step - loss: 0.2581 - acc: 0.9165 - val_loss: 0.2620 - val_acc: 0.9173\n",
      "Epoch 21/30\n",
      "110288/110288 [==============================] - 8s 72us/step - loss: 0.2554 - acc: 0.9175 - val_loss: 0.2570 - val_acc: 0.9181\n",
      "Epoch 22/30\n",
      "110288/110288 [==============================] - 8s 72us/step - loss: 0.2518 - acc: 0.9184 - val_loss: 0.2605 - val_acc: 0.9170\n",
      "Epoch 23/30\n",
      "110288/110288 [==============================] - 8s 72us/step - loss: 0.2494 - acc: 0.9191 - val_loss: 0.2610 - val_acc: 0.9164\n",
      "Epoch 24/30\n",
      "110288/110288 [==============================] - 8s 72us/step - loss: 0.2517 - acc: 0.9183 - val_loss: 0.2573 - val_acc: 0.9182\n",
      "Epoch 25/30\n",
      "110288/110288 [==============================] - 8s 72us/step - loss: 0.2469 - acc: 0.9198 - val_loss: 0.2494 - val_acc: 0.9205\n",
      "Epoch 26/30\n",
      "110288/110288 [==============================] - 8s 72us/step - loss: 0.2455 - acc: 0.9199 - val_loss: 0.2555 - val_acc: 0.9171\n",
      "Epoch 27/30\n",
      "110288/110288 [==============================] - 8s 72us/step - loss: 0.2458 - acc: 0.9199 - val_loss: 0.2645 - val_acc: 0.9167\n",
      "Epoch 28/30\n",
      "110288/110288 [==============================] - 8s 72us/step - loss: 0.2464 - acc: 0.9196 - val_loss: 0.2481 - val_acc: 0.9212\n",
      "Epoch 29/30\n",
      "110288/110288 [==============================] - 8s 72us/step - loss: 0.2385 - acc: 0.9219 - val_loss: 0.2553 - val_acc: 0.9177\n",
      "Epoch 30/30\n",
      "110288/110288 [==============================] - 8s 72us/step - loss: 0.2444 - acc: 0.9203 - val_loss: 0.2550 - val_acc: 0.9185\n",
      "new jersey est parfois calme en l' et il est neigeux est avril <PAD> <PAD> <PAD> <PAD> <PAD> <PAD> <PAD> <PAD>\n"
     ]
    }
   ],
   "source": [
    "def embed_model(input_shape, output_sequence_length, english_vocab_size, french_vocab_size):\n",
    "    \"\"\"\n",
    "    Build and train a RNN model using word embedding on x and y\n",
    "    :param input_shape: Tuple of input shape\n",
    "    :param output_sequence_length: Length of output sequence\n",
    "    :param english_vocab_size: Number of unique English words in the dataset\n",
    "    :param french_vocab_size: Number of unique French words in the dataset\n",
    "    :return: Keras model built, but not trained\n",
    "    \"\"\"\n",
    "    # TODO: Implement\n",
    "    # Build functional RNN model with embedding layer\n",
    "    embed_size = 128\n",
    "    learning_rate = 0.01\n",
    "    inputs  = Input(shape=input_shape[1:])\n",
    "    outputs = Embedding(english_vocab_size, embed_size, input_length=output_sequence_length)(inputs)\n",
    "    outputs = GRU(128, return_sequences=True)(outputs)\n",
    "    outputs = TimeDistributed(Dense(french_vocab_size, activation=\"softmax\"))(outputs)\n",
    "    model   = Model(inputs, outputs)\n",
    "    model.compile(loss=sparse_categorical_crossentropy,\n",
    "                  optimizer=Adam(learning_rate),\n",
    "                  metrics=['accuracy'])\n",
    "    return model\n",
    "tests.test_embed_model(embed_model)\n",
    "\n",
    "# Reshaping the input to work with a embed RNN\n",
    "tmp_x = pad(preproc_english_sentences, max_french_sequence_length)\n",
    "\n",
    "# Train the neural network\n",
    "embed_rnn_model = embed_model(\n",
    "    tmp_x.shape,\n",
    "    max_french_sequence_length,\n",
    "    english_vocab_size,\n",
    "    french_vocab_size)\n",
    "embed_rnn_model.fit(tmp_x, preproc_french_sentences, batch_size=1024, epochs=30, validation_split=0.2)\n",
    "\n",
    "# Print prediction(s)\n",
    "print(logits_to_text(embed_rnn_model.predict(tmp_x[:1])[0], french_tokenizer))"
   ]
  },
  {
   "cell_type": "markdown",
   "metadata": {},
   "source": [
    "### Model 3: Bidirectional RNNs (IMPLEMENTATION)\n",
    "![RNN](images/bidirectional.png)\n",
    "One restriction of a RNN is that it can't see the future input, only the past.  This is where bidirectional recurrent neural networks come in.  They are able to see the future data."
   ]
  },
  {
   "cell_type": "code",
   "execution_count": 16,
   "metadata": {},
   "outputs": [
    {
     "name": "stdout",
     "output_type": "stream",
     "text": [
      "Train on 110288 samples, validate on 27573 samples\n",
      "Epoch 1/30\n",
      "110288/110288 [==============================] - 12s 105us/step - loss: 1.9589 - acc: 0.5544 - val_loss: 1.1847 - val_acc: 0.6550\n",
      "Epoch 2/30\n",
      "110288/110288 [==============================] - 11s 97us/step - loss: 1.0903 - acc: 0.6726 - val_loss: 1.0121 - val_acc: 0.6865\n",
      "Epoch 3/30\n",
      "110288/110288 [==============================] - 11s 97us/step - loss: 0.9676 - acc: 0.6928 - val_loss: 0.9893 - val_acc: 0.6821\n",
      "Epoch 4/30\n",
      "110288/110288 [==============================] - 11s 98us/step - loss: 0.9071 - acc: 0.7023 - val_loss: 0.8934 - val_acc: 0.7028\n",
      "Epoch 5/30\n",
      "110288/110288 [==============================] - 11s 98us/step - loss: 0.8534 - acc: 0.7139 - val_loss: 0.8594 - val_acc: 0.7080\n",
      "Epoch 6/30\n",
      "110288/110288 [==============================] - 11s 97us/step - loss: 0.8240 - acc: 0.7205 - val_loss: 0.8583 - val_acc: 0.7111\n",
      "Epoch 7/30\n",
      "110288/110288 [==============================] - 11s 97us/step - loss: 0.8055 - acc: 0.7239 - val_loss: 0.8059 - val_acc: 0.7224\n",
      "Epoch 8/30\n",
      "110288/110288 [==============================] - 11s 98us/step - loss: 0.7794 - acc: 0.7314 - val_loss: 0.7619 - val_acc: 0.7366\n",
      "Epoch 9/30\n",
      "110288/110288 [==============================] - 11s 97us/step - loss: 0.7550 - acc: 0.7389 - val_loss: 0.7491 - val_acc: 0.7426\n",
      "Epoch 10/30\n",
      "110288/110288 [==============================] - 11s 97us/step - loss: 0.7511 - acc: 0.7409 - val_loss: 0.7181 - val_acc: 0.7539\n",
      "Epoch 11/30\n",
      "110288/110288 [==============================] - 11s 97us/step - loss: 0.7198 - acc: 0.7516 - val_loss: 0.7174 - val_acc: 0.7537\n",
      "Epoch 12/30\n",
      "110288/110288 [==============================] - 11s 98us/step - loss: 0.7101 - acc: 0.7557 - val_loss: 0.7090 - val_acc: 0.7559\n",
      "Epoch 13/30\n",
      "110288/110288 [==============================] - 11s 97us/step - loss: 0.6883 - acc: 0.7656 - val_loss: 0.6681 - val_acc: 0.7773\n",
      "Epoch 14/30\n",
      "110288/110288 [==============================] - 11s 97us/step - loss: 0.6774 - acc: 0.7694 - val_loss: 0.6563 - val_acc: 0.7798\n",
      "Epoch 15/30\n",
      "110288/110288 [==============================] - 11s 97us/step - loss: 0.6575 - acc: 0.7776 - val_loss: 0.6399 - val_acc: 0.7871\n",
      "Epoch 16/30\n",
      "110288/110288 [==============================] - 11s 97us/step - loss: 0.6396 - acc: 0.7855 - val_loss: 0.6305 - val_acc: 0.7890\n",
      "Epoch 17/30\n",
      "110288/110288 [==============================] - 11s 97us/step - loss: 0.6547 - acc: 0.7789 - val_loss: 0.6361 - val_acc: 0.7835\n",
      "Epoch 18/30\n",
      "110288/110288 [==============================] - 11s 98us/step - loss: 0.6209 - acc: 0.7922 - val_loss: 0.6263 - val_acc: 0.7898\n",
      "Epoch 19/30\n",
      "110288/110288 [==============================] - 11s 98us/step - loss: 0.6225 - acc: 0.7920 - val_loss: 0.6932 - val_acc: 0.7618\n",
      "Epoch 20/30\n",
      "110288/110288 [==============================] - 11s 97us/step - loss: 0.6477 - acc: 0.7773 - val_loss: 0.6135 - val_acc: 0.7933\n",
      "Epoch 21/30\n",
      "110288/110288 [==============================] - 11s 97us/step - loss: 0.6055 - acc: 0.7965 - val_loss: 0.6019 - val_acc: 0.7996\n",
      "Epoch 22/30\n",
      "110288/110288 [==============================] - 11s 97us/step - loss: 0.6054 - acc: 0.7971 - val_loss: 0.6411 - val_acc: 0.7789\n",
      "Epoch 23/30\n",
      "110288/110288 [==============================] - 11s 97us/step - loss: 0.6032 - acc: 0.7973 - val_loss: 0.6146 - val_acc: 0.7935\n",
      "Epoch 24/30\n",
      "110288/110288 [==============================] - 11s 98us/step - loss: 0.5903 - acc: 0.8020 - val_loss: 0.5833 - val_acc: 0.8040\n",
      "Epoch 25/30\n",
      "110288/110288 [==============================] - 11s 98us/step - loss: 0.5710 - acc: 0.8090 - val_loss: 0.5736 - val_acc: 0.8082\n",
      "Epoch 26/30\n",
      "110288/110288 [==============================] - 11s 97us/step - loss: 0.5889 - acc: 0.8018 - val_loss: 0.5564 - val_acc: 0.8159\n",
      "Epoch 27/30\n",
      "110288/110288 [==============================] - 11s 97us/step - loss: 0.5762 - acc: 0.8069 - val_loss: 0.5775 - val_acc: 0.8074\n",
      "Epoch 28/30\n",
      "110288/110288 [==============================] - 11s 98us/step - loss: 0.5566 - acc: 0.8148 - val_loss: 0.5602 - val_acc: 0.8135\n",
      "Epoch 29/30\n",
      "110288/110288 [==============================] - 11s 97us/step - loss: 0.5458 - acc: 0.8184 - val_loss: 0.5430 - val_acc: 0.8214\n",
      "Epoch 30/30\n",
      "110288/110288 [==============================] - 11s 97us/step - loss: 0.5392 - acc: 0.8207 - val_loss: 0.5358 - val_acc: 0.8256\n",
      "new jersey est parfois calme au l' et il est est en avril <PAD> <PAD> <PAD> <PAD> <PAD> <PAD> <PAD> <PAD>\n"
     ]
    }
   ],
   "source": [
    "def bd_model(input_shape, output_sequence_length, english_vocab_size, french_vocab_size):\n",
    "    \"\"\"\n",
    "    Build and train a bidirectional RNN model on x and y\n",
    "    :param input_shape: Tuple of input shape\n",
    "    :param output_sequence_length: Length of output sequence\n",
    "    :param english_vocab_size: Number of unique English words in the dataset\n",
    "    :param french_vocab_size: Number of unique French words in the dataset\n",
    "    :return: Keras model built, but not trained\n",
    "    \"\"\"\n",
    "    # TODO: Implement\n",
    "    # Build functional bidirectional RNN model without embedding layer\n",
    "    learning_rate = 0.01\n",
    "    inputs  = Input(shape=input_shape[1:])\n",
    "    outputs = Bidirectional(GRU(128, return_sequences=True))(inputs)\n",
    "    outputs = TimeDistributed(Dense(french_vocab_size, activation=\"softmax\"))(outputs)\n",
    "    model   = Model(inputs, outputs)\n",
    "    model.compile(loss=sparse_categorical_crossentropy,\n",
    "                  optimizer=Adam(learning_rate),\n",
    "                  metrics=['accuracy'])\n",
    "    return model\n",
    "tests.test_bd_model(bd_model)\n",
    "\n",
    "# TODO: Train and Print prediction(s)\n",
    "tmp_x = pad(preproc_english_sentences, max_french_sequence_length)\n",
    "tmp_x = tmp_x.reshape((-1, preproc_french_sentences.shape[-2], 1))\n",
    "\n",
    "# Train the neural network\n",
    "the_bd_model = bd_model(\n",
    "    tmp_x.shape,\n",
    "    max_french_sequence_length,\n",
    "    english_vocab_size,\n",
    "    french_vocab_size)\n",
    "the_bd_model.fit(tmp_x, preproc_french_sentences, batch_size=1024, epochs=30, validation_split=0.2)\n",
    "\n",
    "# Print prediction(s)\n",
    "print(logits_to_text(the_bd_model.predict(tmp_x[:1])[0], french_tokenizer))"
   ]
  },
  {
   "cell_type": "markdown",
   "metadata": {},
   "source": [
    "### Model 4: Encoder-Decoder (OPTIONAL)\n",
    "Time to look at encoder-decoder models.  This model is made up of an encoder and decoder. The encoder creates a matrix representation of the sentence.  The decoder takes this matrix as input and predicts the translation as output.\n",
    "\n",
    "Create an encoder-decoder model in the cell below."
   ]
  },
  {
   "cell_type": "code",
   "execution_count": 12,
   "metadata": {},
   "outputs": [
    {
     "name": "stdout",
     "output_type": "stream",
     "text": [
      "Train on 110288 samples, validate on 27573 samples\n",
      "Epoch 1/30\n",
      "110288/110288 [==============================] - 17s 157us/step - loss: 3.2966 - acc: 0.3469 - val_loss: 2.8650 - val_acc: 0.0679\n",
      "Epoch 2/30\n",
      "110288/110288 [==============================] - 17s 150us/step - loss: 2.6405 - acc: 0.3896 - val_loss: 2.4682 - val_acc: 0.4555\n",
      "Epoch 3/30\n",
      "110288/110288 [==============================] - 17s 150us/step - loss: 2.3917 - acc: 0.4705 - val_loss: 2.1484 - val_acc: 0.5100\n",
      "Epoch 4/30\n",
      "110288/110288 [==============================] - 17s 150us/step - loss: 2.1991 - acc: 0.4937 - val_loss: 2.0532 - val_acc: 0.5164\n",
      "Epoch 5/30\n",
      "110288/110288 [==============================] - 17s 150us/step - loss: 2.1078 - acc: 0.5045 - val_loss: 1.9383 - val_acc: 0.5330\n",
      "Epoch 6/30\n",
      "110288/110288 [==============================] - 16s 150us/step - loss: 2.0966 - acc: 0.5036 - val_loss: 1.8638 - val_acc: 0.5327\n",
      "Epoch 7/30\n",
      "110288/110288 [==============================] - 17s 150us/step - loss: 2.0943 - acc: 0.5045 - val_loss: 1.9018 - val_acc: 0.5407\n",
      "Epoch 8/30\n",
      "110288/110288 [==============================] - 17s 150us/step - loss: 2.0019 - acc: 0.5216 - val_loss: 1.7953 - val_acc: 0.5682\n",
      "Epoch 9/30\n",
      "110288/110288 [==============================] - 17s 150us/step - loss: 1.8802 - acc: 0.5416 - val_loss: 1.7141 - val_acc: 0.5803\n",
      "Epoch 10/30\n",
      "110288/110288 [==============================] - 17s 150us/step - loss: 1.8350 - acc: 0.5482 - val_loss: 1.6774 - val_acc: 0.5865\n",
      "Epoch 11/30\n",
      "110288/110288 [==============================] - 16s 150us/step - loss: 2.0127 - acc: 0.5217 - val_loss: 1.9047 - val_acc: 0.5391\n",
      "Epoch 12/30\n",
      "110288/110288 [==============================] - 17s 150us/step - loss: 1.9817 - acc: 0.5202 - val_loss: 1.8093 - val_acc: 0.5550\n",
      "Epoch 13/30\n",
      "110288/110288 [==============================] - 17s 150us/step - loss: 1.8362 - acc: 0.5436 - val_loss: 1.6606 - val_acc: 0.5796\n",
      "Epoch 14/30\n",
      "110288/110288 [==============================] - 17s 150us/step - loss: 1.8626 - acc: 0.5379 - val_loss: 1.6486 - val_acc: 0.5834\n",
      "Epoch 15/30\n",
      "110288/110288 [==============================] - 17s 150us/step - loss: 1.7794 - acc: 0.5530 - val_loss: 1.6329 - val_acc: 0.5907\n",
      "Epoch 16/30\n",
      "110288/110288 [==============================] - 17s 150us/step - loss: 1.7508 - acc: 0.5587 - val_loss: 1.5983 - val_acc: 0.5969\n",
      "Epoch 17/30\n",
      "110288/110288 [==============================] - 17s 150us/step - loss: 1.8216 - acc: 0.5451 - val_loss: 1.6227 - val_acc: 0.5904\n",
      "Epoch 18/30\n",
      "110288/110288 [==============================] - 17s 150us/step - loss: 1.7423 - acc: 0.5611 - val_loss: 1.6094 - val_acc: 0.5937\n",
      "Epoch 19/30\n",
      "110288/110288 [==============================] - 17s 150us/step - loss: 1.7502 - acc: 0.5588 - val_loss: 1.5932 - val_acc: 0.5923\n",
      "Epoch 20/30\n",
      "110288/110288 [==============================] - 16s 150us/step - loss: 1.7224 - acc: 0.5634 - val_loss: 1.5808 - val_acc: 0.5987\n",
      "Epoch 21/30\n",
      "110288/110288 [==============================] - 17s 150us/step - loss: 1.7061 - acc: 0.5650 - val_loss: 1.5943 - val_acc: 0.5956\n",
      "Epoch 22/30\n",
      "110288/110288 [==============================] - 17s 150us/step - loss: 1.7041 - acc: 0.5644 - val_loss: 1.5599 - val_acc: 0.5996\n",
      "Epoch 23/30\n",
      "110288/110288 [==============================] - 16s 149us/step - loss: 2.0239 - acc: 0.5226 - val_loss: 1.6516 - val_acc: 0.5763\n",
      "Epoch 24/30\n",
      "110288/110288 [==============================] - 17s 150us/step - loss: 1.7434 - acc: 0.5596 - val_loss: 1.5894 - val_acc: 0.5862\n",
      "Epoch 25/30\n",
      "110288/110288 [==============================] - 16s 149us/step - loss: 1.7262 - acc: 0.5617 - val_loss: 1.5888 - val_acc: 0.5960\n",
      "Epoch 26/30\n",
      "110288/110288 [==============================] - 17s 150us/step - loss: 1.7063 - acc: 0.5650 - val_loss: 1.5799 - val_acc: 0.5941\n",
      "Epoch 27/30\n",
      "110288/110288 [==============================] - 17s 150us/step - loss: 1.6933 - acc: 0.5670 - val_loss: 1.5586 - val_acc: 0.5959\n",
      "Epoch 28/30\n",
      "110288/110288 [==============================] - 16s 150us/step - loss: 1.6520 - acc: 0.5752 - val_loss: 1.5263 - val_acc: 0.6043\n",
      "Epoch 29/30\n",
      "110288/110288 [==============================] - 16s 149us/step - loss: 1.7574 - acc: 0.5579 - val_loss: 1.5274 - val_acc: 0.6092\n",
      "Epoch 30/30\n",
      "110288/110288 [==============================] - 16s 150us/step - loss: 1.6455 - acc: 0.5763 - val_loss: 1.4996 - val_acc: 0.6115\n",
      "new jersey est jamais en en mois mais il est est en en <PAD> <PAD> <PAD> <PAD> <PAD> <PAD> <PAD> <PAD>\n"
     ]
    }
   ],
   "source": [
    "from keras.models import Sequential\n",
    "from keras.layers import Dropout\n",
    "\n",
    "# Define a sequential encoder-decoder training model, without embedding layer\n",
    "def encdec_model(input_shape, output_sequence_length, english_vocab_size, french_vocab_size):\n",
    "    \"\"\"\n",
    "    Build and train an encoder-decoder model on x and y\n",
    "    :param input_shape: Tuple of input shape\n",
    "    :param output_sequence_length: Length of output sequence\n",
    "    :param english_vocab_size: Number of unique English words in the dataset\n",
    "    :param french_vocab_size: Number of unique French words in the dataset\n",
    "    :return: Keras model built, but not trained\n",
    "    \"\"\"\n",
    "    # OPTIONAL: Implement\n",
    "    # Build simple sequential encoder-decoder model without embedding layer\n",
    "    learning_rate = 0.01\n",
    "    dense_size = 8\n",
    "    dropout_prob = 0.2\n",
    "    model = Sequential([\n",
    "        GRU(128, return_sequences=False, recurrent_initializer='glorot_uniform',input_shape=input_shape[1:]),  # return_state=False\n",
    "        RepeatVector(output_sequence_length),  # Needed in a sequential model, so that each decoder token has one encoder input\n",
    "        GRU(128, return_sequences=True, recurrent_initializer='glorot_uniform'),\n",
    "        Dropout(dropout_prob),\n",
    "        #TimeDistributed(Dense(dense_size*french_vocab_size, activation=\"relu\")),\n",
    "        #Dropout(dropout_prob),\n",
    "        TimeDistributed(Dense(french_vocab_size, activation=\"softmax\"))\n",
    "    ])\n",
    "    \n",
    "    model.compile(loss=sparse_categorical_crossentropy,\n",
    "                  optimizer=Adam(learning_rate),\n",
    "                  metrics=['accuracy'])\n",
    "    #print(model.summary())\n",
    "    return model\n",
    "\n",
    "tests.test_encdec_model(encdec_model)\n",
    "\n",
    "# Set up \n",
    "tmp_x = pad(preproc_english_sentences, max_french_sequence_length)\n",
    "tmp_x = tmp_x.reshape((-1, preproc_french_sentences.shape[-2], 1))\n",
    "\n",
    "# Train the neural network\n",
    "simple_encoder_decoder_model = encdec_model(\n",
    "    tmp_x.shape,\n",
    "    max_french_sequence_length,\n",
    "    english_vocab_size,\n",
    "    french_vocab_size)\n",
    "\n",
    "simple_encoder_decoder_model.fit(tmp_x, preproc_french_sentences, batch_size=1024, epochs=30, validation_split=0.2)\n",
    "\n",
    "# Print prediction(s)\n",
    "print(logits_to_text(simple_encoder_decoder_model.predict(tmp_x[:1])[0], french_tokenizer))"
   ]
  },
  {
   "cell_type": "markdown",
   "metadata": {},
   "source": [
    "### Model 5: Custom (IMPLEMENTATION)\n",
    "Use everything you learned from the previous models to create a model that incorporates embedding and a bidirectional rnn into one model."
   ]
  },
  {
   "cell_type": "code",
   "execution_count": 18,
   "metadata": {},
   "outputs": [
    {
     "name": "stdout",
     "output_type": "stream",
     "text": [
      "Final Model Loaded\n",
      "Train on 110288 samples, validate on 27573 samples\n",
      "Epoch 1/50\n",
      "110288/110288 [==============================] - 45s 404us/step - loss: 2.3046 - acc: 0.5005 - val_loss: 1.3950 - val_acc: 0.6369\n",
      "Epoch 2/50\n",
      "110288/110288 [==============================] - 43s 387us/step - loss: 1.3197 - acc: 0.6428 - val_loss: 1.0821 - val_acc: 0.6999\n",
      "Epoch 3/50\n",
      "110288/110288 [==============================] - 43s 386us/step - loss: 1.1004 - acc: 0.6925 - val_loss: 0.9377 - val_acc: 0.7367\n",
      "Epoch 4/50\n",
      "110288/110288 [==============================] - 43s 386us/step - loss: 0.9503 - acc: 0.7288 - val_loss: 0.8158 - val_acc: 0.7640\n",
      "Epoch 5/50\n",
      "110288/110288 [==============================] - 43s 386us/step - loss: 0.8509 - acc: 0.7514 - val_loss: 0.7095 - val_acc: 0.7896\n",
      "Epoch 6/50\n",
      "110288/110288 [==============================] - 43s 385us/step - loss: 0.7258 - acc: 0.7789 - val_loss: 0.5826 - val_acc: 0.8227\n",
      "Epoch 7/50\n",
      "110288/110288 [==============================] - 43s 386us/step - loss: 0.6220 - acc: 0.8074 - val_loss: 0.5328 - val_acc: 0.8347\n",
      "Epoch 8/50\n",
      "110288/110288 [==============================] - 42s 385us/step - loss: 0.5448 - acc: 0.8291 - val_loss: 0.4165 - val_acc: 0.8750\n",
      "Epoch 9/50\n",
      "110288/110288 [==============================] - 42s 385us/step - loss: 0.4831 - acc: 0.8472 - val_loss: 0.4152 - val_acc: 0.8679\n",
      "Epoch 10/50\n",
      "110288/110288 [==============================] - 42s 385us/step - loss: 0.4205 - acc: 0.8675 - val_loss: 0.3024 - val_acc: 0.9096\n",
      "Epoch 11/50\n",
      "110288/110288 [==============================] - 42s 385us/step - loss: 0.3694 - acc: 0.8833 - val_loss: 0.2836 - val_acc: 0.9155\n",
      "Epoch 12/50\n",
      "110288/110288 [==============================] - 42s 385us/step - loss: 0.3277 - acc: 0.8965 - val_loss: 0.2361 - val_acc: 0.9304\n",
      "Epoch 13/50\n",
      "110288/110288 [==============================] - 42s 385us/step - loss: 0.2950 - acc: 0.9068 - val_loss: 0.2248 - val_acc: 0.9302\n",
      "Epoch 14/50\n",
      "110288/110288 [==============================] - 42s 385us/step - loss: 0.2618 - acc: 0.9176 - val_loss: 0.1878 - val_acc: 0.9430\n",
      "Epoch 15/50\n",
      "110288/110288 [==============================] - 42s 385us/step - loss: 0.2457 - acc: 0.9225 - val_loss: 0.1748 - val_acc: 0.9457\n",
      "Epoch 16/50\n",
      "110288/110288 [==============================] - 42s 384us/step - loss: 0.2160 - acc: 0.9323 - val_loss: 0.1533 - val_acc: 0.9533\n",
      "Epoch 17/50\n",
      "110288/110288 [==============================] - 42s 384us/step - loss: 0.1963 - acc: 0.9383 - val_loss: 0.1397 - val_acc: 0.9572\n",
      "Epoch 18/50\n",
      "110288/110288 [==============================] - 42s 384us/step - loss: 0.1819 - acc: 0.9429 - val_loss: 0.1326 - val_acc: 0.9589\n",
      "Epoch 19/50\n",
      "110288/110288 [==============================] - 42s 384us/step - loss: 0.1764 - acc: 0.9442 - val_loss: 0.1291 - val_acc: 0.9608\n",
      "Epoch 20/50\n",
      "110288/110288 [==============================] - 42s 384us/step - loss: 0.1638 - acc: 0.9483 - val_loss: 0.1163 - val_acc: 0.9638\n",
      "Epoch 21/50\n",
      "110288/110288 [==============================] - 42s 384us/step - loss: 0.1489 - acc: 0.9533 - val_loss: 0.1152 - val_acc: 0.9648\n",
      "Epoch 22/50\n",
      "110288/110288 [==============================] - 42s 384us/step - loss: 0.1380 - acc: 0.9568 - val_loss: 0.1054 - val_acc: 0.9678\n",
      "Epoch 23/50\n",
      "110288/110288 [==============================] - 42s 384us/step - loss: 0.1312 - acc: 0.9588 - val_loss: 0.0988 - val_acc: 0.9700\n",
      "Epoch 24/50\n",
      "110288/110288 [==============================] - 42s 384us/step - loss: 0.1255 - acc: 0.9605 - val_loss: 0.0964 - val_acc: 0.9704\n",
      "Epoch 25/50\n",
      "110288/110288 [==============================] - 42s 383us/step - loss: 0.3351 - acc: 0.8987 - val_loss: 0.1329 - val_acc: 0.9629\n",
      "Epoch 26/50\n",
      "110288/110288 [==============================] - 42s 383us/step - loss: 0.1424 - acc: 0.9568 - val_loss: 0.1031 - val_acc: 0.9692\n",
      "Epoch 27/50\n",
      "110288/110288 [==============================] - 42s 383us/step - loss: 0.1212 - acc: 0.9628 - val_loss: 0.0913 - val_acc: 0.9733\n",
      "Epoch 28/50\n",
      "110288/110288 [==============================] - 42s 383us/step - loss: 0.1097 - acc: 0.9663 - val_loss: 0.0927 - val_acc: 0.9725\n",
      "Epoch 29/50\n",
      "110288/110288 [==============================] - 42s 383us/step - loss: 0.1028 - acc: 0.9684 - val_loss: 0.0880 - val_acc: 0.9735\n",
      "Epoch 30/50\n",
      "110288/110288 [==============================] - 42s 382us/step - loss: 0.0958 - acc: 0.9705 - val_loss: 0.0817 - val_acc: 0.9756\n",
      "Epoch 31/50\n",
      "110288/110288 [==============================] - 42s 381us/step - loss: 0.0914 - acc: 0.9718 - val_loss: 0.0803 - val_acc: 0.9762\n",
      "Epoch 32/50\n",
      "110288/110288 [==============================] - 42s 381us/step - loss: 0.0881 - acc: 0.9729 - val_loss: 0.0774 - val_acc: 0.9771\n",
      "Epoch 33/50\n",
      "110288/110288 [==============================] - 42s 381us/step - loss: 0.0863 - acc: 0.9734 - val_loss: 0.0748 - val_acc: 0.9788\n",
      "Epoch 34/50\n",
      "110288/110288 [==============================] - 42s 383us/step - loss: 0.0796 - acc: 0.9754 - val_loss: 0.0733 - val_acc: 0.9788\n",
      "Epoch 35/50\n",
      "110288/110288 [==============================] - 42s 383us/step - loss: 0.0779 - acc: 0.9760 - val_loss: 0.0758 - val_acc: 0.9776\n",
      "Epoch 36/50\n",
      "110288/110288 [==============================] - 42s 383us/step - loss: 0.0732 - acc: 0.9774 - val_loss: 0.0712 - val_acc: 0.9796\n",
      "Epoch 37/50\n",
      "110288/110288 [==============================] - 42s 383us/step - loss: 0.2076 - acc: 0.9358 - val_loss: 0.1081 - val_acc: 0.9710\n",
      "Epoch 38/50\n",
      "110288/110288 [==============================] - 42s 383us/step - loss: 0.0999 - acc: 0.9700 - val_loss: 0.0830 - val_acc: 0.9775\n",
      "Epoch 39/50\n",
      "110288/110288 [==============================] - 42s 383us/step - loss: 0.0815 - acc: 0.9753 - val_loss: 0.0768 - val_acc: 0.9787\n",
      "Epoch 40/50\n",
      "110288/110288 [==============================] - 42s 382us/step - loss: 0.0710 - acc: 0.9782 - val_loss: 0.0729 - val_acc: 0.9791\n",
      "Epoch 41/50\n",
      "110288/110288 [==============================] - 42s 382us/step - loss: 0.0660 - acc: 0.9799 - val_loss: 0.0702 - val_acc: 0.9810\n",
      "Epoch 42/50\n",
      "110288/110288 [==============================] - 42s 383us/step - loss: 0.0627 - acc: 0.9809 - val_loss: 0.0696 - val_acc: 0.9810\n",
      "Epoch 43/50\n",
      "110288/110288 [==============================] - 42s 383us/step - loss: 0.0586 - acc: 0.9820 - val_loss: 0.0650 - val_acc: 0.9823\n",
      "Epoch 44/50\n",
      "110288/110288 [==============================] - 42s 382us/step - loss: 0.0564 - acc: 0.9826 - val_loss: 0.0763 - val_acc: 0.9799\n",
      "Epoch 45/50\n",
      "110288/110288 [==============================] - 42s 382us/step - loss: 0.0558 - acc: 0.9828 - val_loss: 0.0742 - val_acc: 0.9807\n",
      "Epoch 46/50\n",
      "110288/110288 [==============================] - 42s 383us/step - loss: 0.0533 - acc: 0.9835 - val_loss: 0.0691 - val_acc: 0.9815\n",
      "Epoch 47/50\n",
      "110288/110288 [==============================] - 42s 382us/step - loss: 0.0501 - acc: 0.9847 - val_loss: 0.0691 - val_acc: 0.9824\n",
      "Epoch 48/50\n",
      "110288/110288 [==============================] - 42s 383us/step - loss: 0.0494 - acc: 0.9847 - val_loss: 0.0661 - val_acc: 0.9829\n",
      "Epoch 49/50\n",
      "110288/110288 [==============================] - 42s 383us/step - loss: 0.0479 - acc: 0.9852 - val_loss: 0.0644 - val_acc: 0.9826\n",
      "Epoch 50/50\n",
      "110288/110288 [==============================] - 42s 383us/step - loss: 0.0501 - acc: 0.9847 - val_loss: 0.0665 - val_acc: 0.9828\n"
     ]
    },
    {
     "data": {
      "text/plain": [
       "<keras.callbacks.History at 0x7fb6e27cf7f0>"
      ]
     },
     "execution_count": 18,
     "metadata": {},
     "output_type": "execute_result"
    }
   ],
   "source": [
    "from keras.models import Sequential\n",
    "from keras.layers import Dropout\n",
    "\n",
    "def model_final(input_shape, output_sequence_length, english_vocab_size, french_vocab_size):\n",
    "    \"\"\"\n",
    "    Build and train a model that incorporates embedding, encoder-decoder, and bidirectional RNN on x and y\n",
    "    :param input_shape: Tuple of input shape\n",
    "    :param output_sequence_length: Length of output sequence\n",
    "    :param english_vocab_size: Number of unique English words in the dataset\n",
    "    :param french_vocab_size: Number of unique French words in the dataset\n",
    "    :return: Keras model built, but not trained\n",
    "    \"\"\"\n",
    "    # TODO: Implement\n",
    "    # Build encoder-decocer model w/ input embedding using sequential API (no attention)\n",
    "    embed_size = 128\n",
    "    learning_rate = 0.002\n",
    "    dense_size = 8\n",
    "    dropout_prob = 0.2  # dropout does seem to help improve validation accuracy and limit overfitting due to dense layer.. (why?)\n",
    "    model = Sequential([\n",
    "        Embedding(english_vocab_size, embed_size, input_length=input_shape[1]),\n",
    "        Bidirectional(GRU(128, return_sequences=False, recurrent_initializer='glorot_uniform')),\n",
    "        RepeatVector(output_sequence_length),  \n",
    "        Bidirectional(GRU(128, return_sequences=True, recurrent_initializer='glorot_uniform')),\n",
    "        Dropout(dropout_prob),\n",
    "        TimeDistributed(Dense(dense_size*french_vocab_size, activation=\"relu\")),\n",
    "        Dropout(dropout_prob),\n",
    "        TimeDistributed(Dense(french_vocab_size, activation=\"softmax\"))\n",
    "    ])\n",
    "    \n",
    "    model.compile(loss=sparse_categorical_crossentropy,\n",
    "                  optimizer=Adam(learning_rate),\n",
    "                  metrics=['accuracy'])\n",
    "    #print(model.summary())\n",
    "    return model\n",
    "tests.test_model_final(model_final)\n",
    "\n",
    "\n",
    "print('Final Model Loaded')\n",
    "\n",
    "# TODO: Train the final model\n",
    "# Set up \n",
    "tmp_x = pad(preproc_english_sentences, max_french_sequence_length)\n",
    "\n",
    "# Train the neural network\n",
    "final_encoder_decoder_model = model_final(\n",
    "    tmp_x.shape,\n",
    "    max_french_sequence_length,\n",
    "    english_vocab_size,\n",
    "    french_vocab_size)\n",
    "\n",
    "final_encoder_decoder_model.fit(tmp_x, preproc_french_sentences, batch_size=1024, epochs=50, validation_split=0.2)"
   ]
  },
  {
   "cell_type": "markdown",
   "metadata": {},
   "source": [
    "## Prediction (IMPLEMENTATION)"
   ]
  },
  {
   "cell_type": "code",
   "execution_count": 19,
   "metadata": {},
   "outputs": [
    {
     "name": "stdout",
     "output_type": "stream",
     "text": [
      "Sample 1:\n",
      "il a vu un vieux camion jaune <PAD> <PAD> <PAD> <PAD> <PAD> <PAD> <PAD> <PAD> <PAD> <PAD> <PAD> <PAD> <PAD> <PAD>\n",
      "Il a vu un vieux camion jaune\n",
      "Sample 2:\n",
      "new jersey est parfois calme pendant l' automne et il est neigeux en avril <PAD> <PAD> <PAD> <PAD> <PAD> <PAD> <PAD>\n",
      "new jersey est parfois calme pendant l' automne et il est neigeux en avril <PAD> <PAD> <PAD> <PAD> <PAD> <PAD> <PAD>\n"
     ]
    }
   ],
   "source": [
    "def final_predictions(x, y, x_tk, y_tk):\n",
    "    \"\"\"\n",
    "    Gets predictions using the final model\n",
    "    :param x: Preprocessed English data\n",
    "    :param y: Preprocessed French data\n",
    "    :param x_tk: English tokenizer\n",
    "    :param y_tk: French tokenizer\n",
    "    \"\"\"\n",
    "    # TODO: Train neural network using model_final\n",
    "    x = pad(x, y.shape[1])  # get padded Englih sentence to pass to predict method\n",
    "    model = final_encoder_decoder_model\n",
    "\n",
    "    ## DON'T EDIT ANYTHING BELOW THIS LINE\n",
    "    y_id_to_word = {value: key for key, value in y_tk.word_index.items()}\n",
    "    y_id_to_word[0] = '<PAD>'\n",
    "\n",
    "    sentence = 'he saw a old yellow truck'\n",
    "    sentence = [x_tk.word_index[word] for word in sentence.split()]\n",
    "    sentence = pad_sequences([sentence], maxlen=x.shape[-1], padding='post')\n",
    "    sentences = np.array([sentence[0], x[0]])\n",
    "    predictions = model.predict(sentences, len(sentences))\n",
    "\n",
    "    print('Sample 1:')\n",
    "    print(' '.join([y_id_to_word[np.argmax(x)] for x in predictions[0]]))\n",
    "    print('Il a vu un vieux camion jaune')\n",
    "    print('Sample 2:')\n",
    "    print(' '.join([y_id_to_word[np.argmax(x)] for x in predictions[1]]))\n",
    "    print(' '.join([y_id_to_word[np.max(x)] for x in y[0]]))\n",
    "\n",
    "\n",
    "final_predictions(preproc_english_sentences, preproc_french_sentences, english_tokenizer, french_tokenizer)"
   ]
  },
  {
   "cell_type": "markdown",
   "metadata": {},
   "source": [
    "## Submission\n",
    "When you're ready to submit, complete the following steps:\n",
    "1. Review the [rubric](https://review.udacity.com/#!/rubrics/1004/view) to ensure your submission meets all requirements to pass\n",
    "2. Generate an HTML version of this notebook\n",
    "\n",
    "  - Run the next cell to attempt automatic generation (this is the recommended method in Workspaces)\n",
    "  - Navigate to **FILE -> Download as -> HTML (.html)**\n",
    "  - Manually generate a copy using `nbconvert` from your shell terminal\n",
    "```\n",
    "$ pip install nbconvert\n",
    "$ python -m nbconvert machine_translation.ipynb\n",
    "```\n",
    "  \n",
    "3. Submit the project\n",
    "\n",
    "  - If you are in a Workspace, simply click the \"Submit Project\" button (bottom towards the right)\n",
    "  \n",
    "  - Otherwise, add the following files into a zip archive and submit them \n",
    "  - `helper.py`\n",
    "  - `machine_translation.ipynb`\n",
    "  - `machine_translation.html`\n",
    "    - You can export the notebook by navigating to **File -> Download as -> HTML (.html)**."
   ]
  },
  {
   "cell_type": "markdown",
   "metadata": {},
   "source": [
    "### Generate the html\n",
    "\n",
    "**Save your notebook before running the next cell to generate the HTML output.** Then submit your project."
   ]
  },
  {
   "cell_type": "code",
   "execution_count": 20,
   "metadata": {},
   "outputs": [
    {
     "data": {
      "text/plain": [
       "['[NbConvertApp] Converting notebook machine_translation.ipynb to html',\n",
       " '[NbConvertApp] Writing 385575 bytes to machine_translation.html',\n",
       " '[NbConvertApp] Converting notebook machine_translation-zh.ipynb to html',\n",
       " '[NbConvertApp] Writing 328614 bytes to machine_translation-zh.html']"
      ]
     },
     "execution_count": 20,
     "metadata": {},
     "output_type": "execute_result"
    }
   ],
   "source": [
    "# Save before you run this cell!\n",
    "!!jupyter nbconvert *.ipynb"
   ]
  },
  {
   "cell_type": "markdown",
   "metadata": {},
   "source": [
    "## Optional Enhancements\n",
    "\n",
    "This project focuses on learning various network architectures for machine translation, but we don't evaluate the models according to best practices by splitting the data into separate test & training sets -- so the model accuracy is overstated. Use the [`sklearn.model_selection.train_test_split()`](http://scikit-learn.org/stable/modules/generated/sklearn.model_selection.train_test_split.html) function to create separate training & test datasets, then retrain each of the models using only the training set and evaluate the prediction accuracy using the hold out test set. Does the \"best\" model change?"
   ]
  }
 ],
 "metadata": {
  "kernelspec": {
   "display_name": "Python 3",
   "language": "python",
   "name": "python3"
  },
  "language_info": {
   "codemirror_mode": {
    "name": "ipython",
    "version": 3
   },
   "file_extension": ".py",
   "mimetype": "text/x-python",
   "name": "python",
   "nbconvert_exporter": "python",
   "pygments_lexer": "ipython3",
   "version": "3.6.3"
  }
 },
 "nbformat": 4,
 "nbformat_minor": 1
}
